{
 "cells": [
  {
   "cell_type": "code",
   "execution_count": null,
   "metadata": {},
   "outputs": [],
   "source": [
    "#Create a function that returns with a subsest of a list.\n",
    "#The subset's starting and ending indexes should be set as input parameters (the list aswell).\n",
    "#return type: list\n",
    "#function name must be: subset\n",
    "#input parameters: input_list,start_index,end_index"
   ]
  },
  {
   "cell_type": "code",
   "execution_count": null,
   "metadata": {},
   "outputs": [],
   "source": [
    "def subset(input_list, start_index, end_index):\n",
    "    "
   ]
  },
  {
   "cell_type": "code",
   "execution_count": null,
   "metadata": {},
   "outputs": [],
   "source": [
    "#Create a function that returns every nth element of a list.\n",
    "#return type: list\n",
    "#function name must be: every_nth\n",
    "#input parameters: input_list,step_size"
   ]
  },
  {
   "cell_type": "code",
   "execution_count": null,
   "metadata": {},
   "outputs": [],
   "source": [
    "def every_nth(input_list, step_size):\n",
    "    "
   ]
  },
  {
   "cell_type": "code",
   "execution_count": null,
   "metadata": {},
   "outputs": [],
   "source": [
    "#Create a function that can decide whether a list contains unique values or not\n",
    "#return type: bool\n",
    "#function name must be: unique\n",
    "#input parameters: input_list"
   ]
  },
  {
   "cell_type": "code",
   "execution_count": null,
   "metadata": {},
   "outputs": [],
   "source": [
    "def unique(input_list):\n",
    "    "
   ]
  },
  {
   "cell_type": "code",
   "execution_count": null,
   "metadata": {},
   "outputs": [],
   "source": [
    "#Create a function that can flatten a nested list ([[..],[..],..])\n",
    "#return type: list\n",
    "#function name must be: flatten\n",
    "#input parameters: input_list"
   ]
  },
  {
   "cell_type": "code",
   "execution_count": null,
   "metadata": {},
   "outputs": [],
   "source": [
    "def flatten(input_list):\n",
    "    "
   ]
  },
  {
   "cell_type": "code",
   "execution_count": null,
   "metadata": {},
   "outputs": [],
   "source": [
    "#Create a function that concatenates n lists\n",
    "#return type: list\n",
    "#function name must be: merge_lists\n",
    "#input parameters: *args\n"
   ]
  },
  {
   "cell_type": "code",
   "execution_count": null,
   "metadata": {},
   "outputs": [],
   "source": [
    "def merge_lists(*args):\n",
    "    "
   ]
  },
  {
   "cell_type": "code",
   "execution_count": null,
   "metadata": {},
   "outputs": [],
   "source": [
    "#Create a function that can reverse a list of tuples\n",
    "#example [(1,2),...] => [(2,1),...]\n",
    "#return type: list\n",
    "#fucntion name must be: reverse_tuples\n",
    "#input parameters: input_list"
   ]
  },
  {
   "cell_type": "code",
   "execution_count": null,
   "metadata": {},
   "outputs": [],
   "source": [
    "def reverse_tuples(input_list):\n",
    "    "
   ]
  },
  {
   "cell_type": "code",
   "execution_count": null,
   "metadata": {},
   "outputs": [],
   "source": [
    "#Create a function that removes duplicates from a list\n",
    "#return type: list\n",
    "#function name must be: remove_tuplicates\n",
    "#input parameters: input_list"
   ]
  },
  {
   "cell_type": "code",
   "execution_count": null,
   "metadata": {},
   "outputs": [],
   "source": [
    "def remove_duplicates(input_list):\n",
    "    "
   ]
  },
  {
   "cell_type": "code",
   "execution_count": null,
   "metadata": {},
   "outputs": [],
   "source": [
    "#Create a function that transposes a nested list (matrix)\n",
    "#return type: list\n",
    "#function name must be: transpose\n",
    "#input parameters: input_list"
   ]
  },
  {
   "cell_type": "code",
   "execution_count": null,
   "metadata": {},
   "outputs": [],
   "source": [
    "def transpose(input_list):\n",
    "    "
   ]
  },
  {
   "cell_type": "code",
   "execution_count": null,
   "metadata": {},
   "outputs": [],
   "source": [
    "#Create a function that can split a nested list into chunks\n",
    "#chunk size is given by parameter\n",
    "#return type: list\n",
    "#function name must be: split_into_chunks\n",
    "#input parameters: input_list,chunk_size"
   ]
  },
  {
   "cell_type": "code",
   "execution_count": null,
   "metadata": {},
   "outputs": [],
   "source": [
    "def split_into_chunks(input_list, chunk_size):\n",
    "    "
   ]
  },
  {
   "cell_type": "code",
   "execution_count": null,
   "metadata": {},
   "outputs": [],
   "source": [
    "#Create a function that can merge n dictionaries\n",
    "#return type: dictionary\n",
    "#function name must be: merge_dicts\n",
    "#input parameters: *dict"
   ]
  },
  {
   "cell_type": "code",
   "execution_count": null,
   "metadata": {},
   "outputs": [],
   "source": [
    "def merge_dicts(*dict):\n",
    "    "
   ]
  },
  {
   "cell_type": "code",
   "execution_count": null,
   "metadata": {},
   "outputs": [],
   "source": [
    "#Create a function that receives a list of integers and sort them by parity\n",
    "#and returns with a dictionary like this: {\"even\":[...],\"odd\":[...]}\n",
    "#return type: dict\n",
    "#function name must be: by_parity\n",
    "#input parameters: input_list"
   ]
  },
  {
   "cell_type": "code",
   "execution_count": null,
   "metadata": {},
   "outputs": [],
   "source": [
    "def by_parity(input_list):\n",
    "    "
   ]
  },
  {
   "cell_type": "code",
   "execution_count": null,
   "metadata": {},
   "outputs": [],
   "source": [
    "#Create a function that receives a dictionary like this: {\"some_key\":[1,2,3,4],\"another_key\":[1,2,3,4],....}\n",
    "#and return a dictionary like this : {\"some_key\":mean_of_values,\"another_key\":mean_of_values,....}\n",
    "#in short calculates the mean of the values key wise\n",
    "#return type: dict\n",
    "#function name must be: mean_key_value\n",
    "#input parameters: input_dict"
   ]
  },
  {
   "cell_type": "code",
   "execution_count": null,
   "metadata": {},
   "outputs": [],
   "source": [
    "def mean_key_value(input_dict):\n",
    "    "
   ]
  },
  {
   "cell_type": "code",
   "execution_count": null,
   "metadata": {},
   "outputs": [],
   "source": [
    "#If all the functions are created convert this notebook into a .py file and push to your repo"
   ]
  }
 ],
 "metadata": {
  "kernelspec": {
   "display_name": "Python 3",
   "language": "python",
   "name": "python3"
  },
  "language_info": {
   "name": "python",
   "version": "3.11.1"
  },
  "orig_nbformat": 4,
  "vscode": {
   "interpreter": {
    "hash": "92e54dd9f947dda2c62585027dafaec86b8988412289b55060f7cab5157ea182"
   }
  }
 },
 "nbformat": 4,
 "nbformat_minor": 2
}
