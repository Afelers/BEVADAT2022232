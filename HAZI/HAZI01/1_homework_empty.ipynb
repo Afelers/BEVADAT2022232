{
 "cells": [
  {
   "cell_type": "code",
   "execution_count": 7,
   "metadata": {},
   "outputs": [],
   "source": [
    "# Create a function that returns with a subsest of a list.\n",
    "# The subset's starting and ending indexes should be set as input parameters (the list aswell).\n",
    "# return type: list\n",
    "# function name must be: subset\n",
    "# input parameters: input_list,start_index,end_index"
   ]
  },
  {
   "cell_type": "code",
   "execution_count": 7,
   "metadata": {},
   "outputs": [],
   "source": [
    "# 1\n",
    "def subset(input_list, start_index, end_index):\n",
    "    return input_list[start_index : end_index]"
   ]
  },
  {
   "cell_type": "code",
   "execution_count": null,
   "metadata": {},
   "outputs": [],
   "source": [
    "# Create a function that returns every nth element of a list.\n",
    "# return type: list\n",
    "# function name must be: every_nth\n",
    "# input parameters: input_list,step_size"
   ]
  },
  {
   "cell_type": "code",
   "execution_count": 18,
   "metadata": {},
   "outputs": [],
   "source": [
    "# 2\n",
    "def every_nth(input_list, step_size):\n",
    "    output_list = []\n",
    "    for i in range(0, len(input_list), step_size):      # start index should most definitely be step_size - 1 but who knows at this point\n",
    "        output_list.append(input_list[i])\n",
    "    return output_list"
   ]
  },
  {
   "cell_type": "code",
   "execution_count": null,
   "metadata": {},
   "outputs": [],
   "source": [
    "# Create a function that can decide whether a list contains unique values or not\n",
    "# return type: bool\n",
    "# function name must be: unique\n",
    "# input parameters: input_list"
   ]
  },
  {
   "cell_type": "code",
   "execution_count": 4,
   "metadata": {},
   "outputs": [],
   "source": [
    "# 3\n",
    "def unique(input_list):\n",
    "    temp = []\n",
    "    for item in input_list:\n",
    "        if item in temp:\n",
    "            return False\n",
    "        else:\n",
    "            temp.append(item)\n",
    "    return True"
   ]
  },
  {
   "cell_type": "code",
   "execution_count": null,
   "metadata": {},
   "outputs": [],
   "source": [
    "# Create a function that can flatten a nested list ([[..],[..],..])\n",
    "# return type: list\n",
    "# function name must be: flatten\n",
    "# input parameters: input_list"
   ]
  },
  {
   "cell_type": "code",
   "execution_count": 20,
   "metadata": {},
   "outputs": [],
   "source": [
    "# 4\n",
    "def flatten(input_list):\n",
    "    return [item for inner in input_list for item in inner]"
   ]
  },
  {
   "cell_type": "code",
   "execution_count": null,
   "metadata": {},
   "outputs": [],
   "source": [
    "# Create a function that concatenates n lists\n",
    "# return type: list\n",
    "# function name must be: merge_lists\n",
    "# input parameters: *args\n"
   ]
  },
  {
   "cell_type": "code",
   "execution_count": 22,
   "metadata": {},
   "outputs": [],
   "source": [
    "# 5\n",
    "def merge_lists(*args):\n",
    "    output_list = []\n",
    "    for arg in args:\n",
    "        output_list.append(arg)\n",
    "    return flatten(output_list)"
   ]
  },
  {
   "cell_type": "code",
   "execution_count": null,
   "metadata": {},
   "outputs": [],
   "source": [
    "# Create a function that can reverse a list of tuples\n",
    "# example [(1,2),...] => [(2,1),...]\n",
    "# return type: list\n",
    "# fucntion name must be: reverse_tuples\n",
    "# input parameters: input_list"
   ]
  },
  {
   "cell_type": "code",
   "execution_count": 34,
   "metadata": {},
   "outputs": [],
   "source": [
    "# 6\n",
    "def reverse_tuples(input_list):\n",
    "    for i in range(len(input_list)):\n",
    "        input_list[i] = list(input_list[i])\n",
    "        input_list[i].reverse()\n",
    "        input_list[i] = tuple(input_list[i])\n",
    "    return input_list"
   ]
  },
  {
   "cell_type": "code",
   "execution_count": null,
   "metadata": {},
   "outputs": [],
   "source": [
    "# Create a function that removes duplicates from a list\n",
    "# return type: list\n",
    "# function name must be: remove_tuplicates\n",
    "# input parameters: input_list"
   ]
  },
  {
   "cell_type": "code",
   "execution_count": 35,
   "metadata": {},
   "outputs": [],
   "source": [
    "# 7\n",
    "def remove_duplicates(input_list):\n",
    "    output_list = []\n",
    "    for item in input_list:\n",
    "        if item not in output_list:\n",
    "            output_list.append(item)\n",
    "    return output_list\n",
    "\n",
    "# just to be sure in case the aforementioned func name does not actually have a typo\n",
    "def remove_tuplicates(input_list):\n",
    "    output_list = []\n",
    "    for item in input_list:\n",
    "        if item not in output_list:\n",
    "            output_list.append(item)\n",
    "    return output_list"
   ]
  },
  {
   "cell_type": "code",
   "execution_count": null,
   "metadata": {},
   "outputs": [],
   "source": [
    "# Create a function that transposes a nested list (matrix)\n",
    "# return type: list\n",
    "# function name must be: transpose\n",
    "# input parameters: input_list"
   ]
  },
  {
   "cell_type": "code",
   "execution_count": 65,
   "metadata": {},
   "outputs": [],
   "source": [
    "# 8\n",
    "def transpose(input_list):\n",
    "    transposed_matrix = []\n",
    "    for i in input_list[0]:\n",
    "        transposed_matrix.append([])\n",
    "\n",
    "    for i in range(len(input_list)):\n",
    "        for j in range(len(input_list[i])):\n",
    "            transposed_matrix[j].append(input_list[i][j])\n",
    "    return transposed_matrix"
   ]
  },
  {
   "cell_type": "code",
   "execution_count": null,
   "metadata": {},
   "outputs": [],
   "source": [
    "# Create a function that can split a nested list into chunks\n",
    "# chunk size is given by parameter\n",
    "# return type: list\n",
    "# function name must be: split_into_chunks\n",
    "# input parameters: input_list,chunk_size"
   ]
  },
  {
   "cell_type": "code",
   "execution_count": 29,
   "metadata": {},
   "outputs": [],
   "source": [
    "# 9     \n",
    "import math\n",
    "def split_into_chunks(input_list, chunk_size):\n",
    "    output_list = []\n",
    "    #input_list = flatten(input_list)                           # gonna check without this line, either your test is wrong or the task is misspelled as it says input_list IS a nested list\n",
    "    for i in range(math.ceil(len(input_list) / chunk_size)):\n",
    "        output_list.append([])\n",
    "\n",
    "    idx = -1\n",
    "    for i in range(len(input_list)):\n",
    "        if i % chunk_size == 0:\n",
    "            idx += 1\n",
    "        output_list[idx].append(input_list[i])\n",
    "    return output_list"
   ]
  },
  {
   "cell_type": "code",
   "execution_count": null,
   "metadata": {},
   "outputs": [],
   "source": [
    "# Create a function that can merge n dictionaries\n",
    "# return type: dictionary\n",
    "# function name must be: merge_dicts\n",
    "# input parameters: *dict"
   ]
  },
  {
   "cell_type": "code",
   "execution_count": 32,
   "metadata": {},
   "outputs": [],
   "source": [
    "# 10\n",
    "def merge_dicts(*dict):\n",
    "    merged_dicts = {}\n",
    "    for d in dict:\n",
    "        merged_dicts.update(d)\n",
    "    return merged_dicts"
   ]
  },
  {
   "cell_type": "code",
   "execution_count": null,
   "metadata": {},
   "outputs": [],
   "source": [
    "# Create a function that receives a list of integers and sort them by parity\n",
    "# and returns with a dictionary like this: {\"even\":[...],\"odd\":[...]}\n",
    "# return type: dict\n",
    "# function name must be: by_parity\n",
    "# input parameters: input_list"
   ]
  },
  {
   "cell_type": "code",
   "execution_count": 77,
   "metadata": {},
   "outputs": [],
   "source": [
    "# 11\n",
    "def by_parity(input_list):\n",
    "    output_dict = { \"even\" : [], \"odd\" : [] }\n",
    "    for item in input_list:\n",
    "        if item % 2 == 0:\n",
    "            output_dict[\"even\"].append(item)\n",
    "        else:\n",
    "            output_dict[\"odd\"].append(item)\n",
    "    return output_dict"
   ]
  },
  {
   "cell_type": "code",
   "execution_count": null,
   "metadata": {},
   "outputs": [],
   "source": [
    "# Create a function that receives a dictionary like this: {\"some_key\":[1,2,3,4],\"another_key\":[1,2,3,4],....}\n",
    "# and return a dictionary like this : {\"some_key\":mean_of_values,\"another_key\":mean_of_values,....}\n",
    "# in short calculates the mean of the values key wise\n",
    "# return type: dict\n",
    "# function name must be: mean_key_value\n",
    "# input parameters: input_dict"
   ]
  },
  {
   "cell_type": "code",
   "execution_count": 82,
   "metadata": {},
   "outputs": [],
   "source": [
    "# 12\n",
    "def mean_key_value(input_dict):\n",
    "    for key, value in input_dict.items():\n",
    "        input_dict[key] = sum(value) / len(value)\n",
    "    return input_dict"
   ]
  },
  {
   "cell_type": "code",
   "execution_count": null,
   "metadata": {},
   "outputs": [],
   "source": [
    "# If all the functions are created convert this notebook into a .py file and push to your repo"
   ]
  }
 ],
 "metadata": {
  "kernelspec": {
   "display_name": "Python 3",
   "language": "python",
   "name": "python3"
  },
  "language_info": {
   "codemirror_mode": {
    "name": "ipython",
    "version": 3
   },
   "file_extension": ".py",
   "mimetype": "text/x-python",
   "name": "python",
   "nbconvert_exporter": "python",
   "pygments_lexer": "ipython3",
   "version": "3.11.1"
  },
  "orig_nbformat": 4,
  "vscode": {
   "interpreter": {
    "hash": "92e54dd9f947dda2c62585027dafaec86b8988412289b55060f7cab5157ea182"
   }
  }
 },
 "nbformat": 4,
 "nbformat_minor": 2
}
