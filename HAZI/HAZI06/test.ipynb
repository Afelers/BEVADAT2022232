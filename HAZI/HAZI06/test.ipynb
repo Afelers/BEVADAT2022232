{
 "cells": [
  {
   "cell_type": "code",
   "execution_count": 1,
   "metadata": {},
   "outputs": [],
   "source": [
    "import pandas as pd\n",
    "from sklearn.model_selection import train_test_split\n",
    "from sklearn.metrics import accuracy_score\n",
    "from NJCleaner import NJCleaner\n",
    "from src.DecisionTreeClassifier import DecisionTreeClassifier\n",
    "\n",
    "NJCleaner(\"NJ.csv\").prep_df(path=\"NJ_clean.csv\")"
   ]
  },
  {
   "cell_type": "code",
   "execution_count": 2,
   "metadata": {},
   "outputs": [],
   "source": [
    "data = pd.read_csv('NJ_clean.csv')\n",
    "X = data.iloc[:, : -1].values\n",
    "Y = data.iloc[:, -1].values.reshape(-1, 1)\n",
    "x_train, X_test, Y_train, Y_test = train_test_split(X, Y, test_size=.2, random_state=41)"
   ]
  },
  {
   "cell_type": "code",
   "execution_count": 11,
   "metadata": {},
   "outputs": [
    {
     "name": "stdout",
     "output_type": "stream",
     "text": [
      "min_samples: 60 max_depth: 11 accuracy_score: 0.8034166666666667\n",
      "min_samples: 70 max_depth: 11 accuracy_score: 0.8033333333333333\n",
      "min_samples: 80 max_depth: 11 accuracy_score: 0.8030833333333334\n",
      "min_samples: 90 max_depth: 11 accuracy_score: 0.803\n",
      "min_samples: 100 max_depth: 11 accuracy_score: 0.8035833333333333\n",
      "min_samples: 110 max_depth: 11 accuracy_score: 0.80275\n",
      "min_samples: 120 max_depth: 11 accuracy_score: 0.8023333333333333\n",
      "min_samples: 130 max_depth: 11 accuracy_score: 0.801\n",
      "min_samples: 140 max_depth: 11 accuracy_score: 0.8008333333333333\n"
     ]
    }
   ],
   "source": [
    "for i in range(60, 150, 10):\n",
    "    classifier = DecisionTreeClassifier(min_samples_split=i, max_depth=11)\n",
    "    classifier.fit(x_train, Y_train)\n",
    "    Y_pred = classifier.predict(X_test)\n",
    "    print(\"min_samples:\", i, \"max_depth:\", 11, \"accuracy_score:\", accuracy_score(Y_test, Y_pred))"
   ]
  }
 ],
 "metadata": {
  "kernelspec": {
   "display_name": "Python 3",
   "language": "python",
   "name": "python3"
  },
  "language_info": {
   "codemirror_mode": {
    "name": "ipython",
    "version": 3
   },
   "file_extension": ".py",
   "mimetype": "text/x-python",
   "name": "python",
   "nbconvert_exporter": "python",
   "pygments_lexer": "ipython3",
   "version": "3.11.1"
  },
  "orig_nbformat": 4
 },
 "nbformat": 4,
 "nbformat_minor": 2
}
