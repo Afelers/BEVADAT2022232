{
 "cells": [
  {
   "cell_type": "code",
   "execution_count": 31,
   "metadata": {},
   "outputs": [],
   "source": [
    "import pandas as pd\n",
    "from typing import Tuple\n",
    "from scipy.stats import mode\n",
    "from sklearn.metrics import confusion_matrix\n",
    "import seaborn as sns\n",
    "\n",
    "CSV_PATH = \"diabetes.csv\""
   ]
  },
  {
   "cell_type": "code",
   "execution_count": 16,
   "metadata": {},
   "outputs": [],
   "source": [
    "def load_csv(csv_path : str) -> Tuple[pd.DataFrame, pd.Series]:\n",
    "    df = pd.read_csv(csv_path)\n",
    "    new_df = df.sample(frac=1, random_state=42)\n",
    "    x, y = new_df.iloc[:, : -1], new_df.iloc[:, -1]\n",
    "    return (x, y)"
   ]
  },
  {
   "cell_type": "code",
   "execution_count": 39,
   "metadata": {},
   "outputs": [
    {
     "data": {
      "text/plain": [
       "pandas.core.frame.DataFrame"
      ]
     },
     "execution_count": 39,
     "metadata": {},
     "output_type": "execute_result"
    }
   ],
   "source": [
    "x, y = load_csv(CSV_PATH)\n",
    "\n",
    "# ha len() nem jó akkor shape kell\n",
    "def train_test_split(features : pd.DataFrame,\n",
    "                     labels : pd.Series,\n",
    "                     test_split_ratio : float) -> Tuple[pd.DataFrame, pd.Series, pd.DataFrame, pd.Series]:\n",
    "    test_size = int(len(features) * test_split_ratio)\n",
    "    train_size = len(features) - test_size\n",
    "    assert len(features) == test_size + train_size, \"Size mismatch!\"    # False kiértékelésre AssertionErrort dob a megadott üzenettel\n",
    "\n",
    "    x_train, y_train = features.iloc[: train_size, :], labels.iloc[: train_size]\n",
    "    x_test, y_test = features.iloc[train_size :, :], labels.iloc[train_size :]\n",
    "    return (x_train, y_train, x_test, y_test)\n",
    "\n",
    "x_train, y_train, x_test, y_test = train_test_split(x, y, 0.2)\n"
   ]
  },
  {
   "cell_type": "code",
   "execution_count": null,
   "metadata": {},
   "outputs": [],
   "source": [
    "def euclidean(points : np.ndarray, element_of_x : np.ndarray) -> np.ndarray:\n",
    "    return np.sqrt(np.sum((points - element_of_x) ** 2, axis=1))"
   ]
  },
  {
   "cell_type": "code",
   "execution_count": null,
   "metadata": {},
   "outputs": [],
   "source": [
    "def predict(x_train : np.ndarray, y_train : np.ndarray, x_test : np.ndarray, k : int):\n",
    "    labels_pred = []\n",
    "    for x_test_element in x_test:\n",
    "        distances = euclidean(x_train, x_test_element)\n",
    "        distances = np.array(sorted(zip(distances, y_train)))\n",
    "        label_pred = mode(distances[:k, 1], keepdims=False).mode\n",
    "        labels_pred.append(label_pred)\n",
    "    return np.array(labels_pred, dtype=np.int64)\n",
    "\n",
    "y_preds = predict(x_train, y_train, x_test, 3)"
   ]
  }
 ],
 "metadata": {
  "kernelspec": {
   "display_name": "Python 3",
   "language": "python",
   "name": "python3"
  },
  "language_info": {
   "codemirror_mode": {
    "name": "ipython",
    "version": 3
   },
   "file_extension": ".py",
   "mimetype": "text/x-python",
   "name": "python",
   "nbconvert_exporter": "python",
   "pygments_lexer": "ipython3",
   "version": "3.11.1"
  },
  "orig_nbformat": 4
 },
 "nbformat": 4,
 "nbformat_minor": 2
}
