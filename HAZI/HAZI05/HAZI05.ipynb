{
 "cells": [
  {
   "cell_type": "code",
   "execution_count": 1,
   "metadata": {},
   "outputs": [],
   "source": [
    "import pandas as pd\n",
    "from typing import Tuple\n",
    "from scipy.stats import mode\n",
    "from sklearn.metrics import confusion_matrix\n",
    "import seaborn as sns\n",
    "\n",
    "CSV_PATH = \"diabetes.csv\""
   ]
  },
  {
   "cell_type": "code",
   "execution_count": 2,
   "metadata": {},
   "outputs": [],
   "source": [
    "def load_csv(csv_path : str) -> Tuple[pd.DataFrame, pd.Series]:\n",
    "    df = pd.read_csv(csv_path)\n",
    "    new_df = df.sample(frac=1, random_state=42)\n",
    "    x, y = new_df.iloc[:, : -1], new_df.iloc[:, -1]\n",
    "    return (x, y)"
   ]
  },
  {
   "cell_type": "code",
   "execution_count": 57,
   "metadata": {},
   "outputs": [],
   "source": [
    "x, y = load_csv(CSV_PATH)\n",
    "\n",
    "# ha len() nem jó akkor shape kell\n",
    "def train_test_split(features : pd.core.frame.DataFrame,\n",
    "                     labels : pd.core.series.Series,\n",
    "                     test_split_ratio : float) -> Tuple[pd.DataFrame, pd.Series, pd.DataFrame, pd.Series]:\n",
    "    test_size = int(len(features) * test_split_ratio)\n",
    "    train_size = len(features) - test_size\n",
    "    assert len(features) == test_size + train_size, \"Size mismatch!\"    # False kiértékelésre AssertionErrort dob a megadott üzenettel\n",
    "\n",
    "    x_train, y_train = features.iloc[: train_size, :], labels.iloc[: train_size]\n",
    "    x_test, y_test = features.iloc[train_size :, :], labels.iloc[train_size :]\n",
    "    y_train.reset_index(inplace=True, drop=True)\n",
    "    y_test.reset_index(inplace=True, drop=True)\n",
    "    return (x_train, y_train, x_test, y_test)\n",
    "\n",
    "x_train, y_train, x_test, y_test = train_test_split(x, y, 0.2)\n"
   ]
  },
  {
   "cell_type": "code",
   "execution_count": 26,
   "metadata": {},
   "outputs": [],
   "source": [
    "def euclidean(points : pd.DataFrame, element_of_x : pd.Series):\n",
    "    return ((points - element_of_x) ** 2).sum(axis=1).pow(1/2)"
   ]
  },
  {
   "cell_type": "code",
   "execution_count": 64,
   "metadata": {},
   "outputs": [],
   "source": [
    "def predict(x_train : pd.DataFrame, y_train : pd.Series, x_test : pd.DataFrame, k : int):\n",
    "    labels_pred = []\n",
    "    for i in range(len(x_test)):\n",
    "        distances = euclidean(x_train, x_test.iloc[i])\n",
    "        distances = pd.DataFrame(sorted(zip(distances, y_train)))\n",
    "        label_pred = mode(distances.iloc[:k, 1], keepdims=False).mode\n",
    "        labels_pred.append(label_pred)\n",
    "    return pd.Series(labels_pred)\n",
    "\n",
    "y_preds = predict(x_train, y_train, x_test, 1)"
   ]
  },
  {
   "cell_type": "code",
   "execution_count": 65,
   "metadata": {},
   "outputs": [
    {
     "name": "stdout",
     "output_type": "stream",
     "text": [
      "63.39869281045751\n"
     ]
    }
   ],
   "source": [
    "def accuracy(y_test : pd.Series, y_preds : pd.Series) -> float:\n",
    "    true_positive = (y_test == y_preds).sum()\n",
    "    return true_positive / len(y_test) * 100\n",
    "\n",
    "print(accuracy(y_test, y_preds))"
   ]
  },
  {
   "cell_type": "code",
   "execution_count": 60,
   "metadata": {},
   "outputs": [
    {
     "name": "stdout",
     "output_type": "stream",
     "text": [
      "<class 'numpy.ndarray'>\n"
     ]
    },
    {
     "data": {
      "image/png": "[encoded data removed]",
      "text/plain": [
       "<Figure size 640x480 with 2 Axes>"
      ]
     },
     "metadata": {},
     "output_type": "display_data"
    }
   ],
   "source": [
    "def plot_confusion_matrix(y_test, y_preds):\n",
    "    conf_matrix = confusion_matrix(y_test, y_preds)\n",
    "    print(type(conf_matrix))\n",
    "    sns.heatmap(conf_matrix, annot=True)\n",
    "\n",
    "plot_confusion_matrix(y_test, y_preds)"
   ]
  },
  {
   "cell_type": "code",
   "execution_count": 68,
   "metadata": {},
   "outputs": [
    {
     "data": {
      "text/plain": [
       "(8, 75.16339869281046)"
      ]
     },
     "execution_count": 68,
     "metadata": {},
     "output_type": "execute_result"
    }
   ],
   "source": [
    "def best_k() -> Tuple[int, float]:\n",
    "    accuracies = []\n",
    "    for i in range(1, 21):\n",
    "        y_preds = predict(x_train, y_train, x_test, i)\n",
    "        accuracies.append(accuracy(y_test, y_preds))\n",
    "    return (accuracies.index(max(accuracies)), max(accuracies))\n",
    "\n",
    "best_k()"
   ]
  }
 ],
 "metadata": {
  "kernelspec": {
   "display_name": "Python 3",
   "language": "python",
   "name": "python3"
  },
  "language_info": {
   "codemirror_mode": {
    "name": "ipython",
    "version": 3
   },
   "file_extension": ".py",
   "mimetype": "text/x-python",
   "name": "python",
   "nbconvert_exporter": "python",
   "pygments_lexer": "ipython3",
   "version": "3.11.1"
  },
  "orig_nbformat": 4,
  "vscode": {
   "interpreter": {
    "hash": "92e54dd9f947dda2c62585027dafaec86b8988412289b55060f7cab5157ea182"
   }
  }
 },
 "nbformat": 4,
 "nbformat_minor": 2
}
