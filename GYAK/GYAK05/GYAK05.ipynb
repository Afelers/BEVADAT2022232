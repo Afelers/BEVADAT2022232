{
 "cells": [
  {
   "cell_type": "code",
   "execution_count": 95,
   "metadata": {},
   "outputs": [],
   "source": [
    "import numpy as np\n",
    "from typing import Tuple\n",
    "from scipy.stats import mode\n",
    "from sklearn.metrics import confusion_matrix\n",
    "import seaborn as sns\n",
    "\n",
    "CSV_PATH = \"iris.csv\""
   ]
  },
  {
   "cell_type": "code",
   "execution_count": 96,
   "metadata": {},
   "outputs": [],
   "source": [
    "def load_csv(csv_path : str) -> Tuple[np.ndarray, np.ndarray]:\n",
    "    np.random.seed(42)\n",
    "    dataset = np.genfromtxt(csv_path, delimiter=',')\n",
    "    np.random.shuffle(dataset)\n",
    "    x, y = dataset[:, : -1], dataset[:, -1]\n",
    "    return (x, y)"
   ]
  },
  {
   "cell_type": "code",
   "execution_count": 97,
   "metadata": {},
   "outputs": [
    {
     "data": {
      "text/plain": [
       "((144, 4), (144,))"
      ]
     },
     "execution_count": 97,
     "metadata": {},
     "output_type": "execute_result"
    }
   ],
   "source": [
    "x, y = load_csv(CSV_PATH)\n",
    "# np.mean(x, axis=0), np.var(x, axis=0)\n",
    "np.nanmean(x, axis=0), np.nanvar(x, axis=0)\n",
    "x[np.isnan(x)] = 3.5\n",
    "#(x > 10.0).sum(), (x < 0.0).sum()\n",
    "x[np.where(np.logical_or(x > 10.0, x < 0.0))]   # a konkrét kiugró értékek\n",
    "\n",
    "y = np.delete(y, np.where(np.logical_or(x > 10.0, x < 0.0))[0], axis=0)\n",
    "x = np.delete(x, np.where(np.logical_or(x > 10.0, x < 0.0))[0], axis=0)\n",
    "x.shape, y.shape"
   ]
  },
  {
   "attachments": {},
   "cell_type": "markdown",
   "metadata": {},
   "source": [
    "<h2>Train test split</h2>"
   ]
  },
  {
   "cell_type": "code",
   "execution_count": 98,
   "metadata": {},
   "outputs": [],
   "source": [
    "def train_test_split(features : np.ndarray,\n",
    "                     labels : np.ndarray,\n",
    "                     test_split_ratio : float):\n",
    "    test_size = int(len(features) * test_split_ratio)\n",
    "    train_size = len(features) - test_size\n",
    "    assert len(features) == test_size + train_size, \"Size mismatch!\"    # False kiértékelésre AssertionErrort dob a megadott üzenettel\n",
    "\n",
    "    x_train, y_train = features[: train_size, :], labels[: train_size]\n",
    "    x_test, y_test = features[train_size :, :], labels[train_size :]\n",
    "    return (x_train, y_train, x_test, y_test)\n",
    "\n",
    "x_train, y_train, x_test, y_test = train_test_split(x, y, 0.2)"
   ]
  },
  {
   "cell_type": "code",
   "execution_count": 99,
   "metadata": {},
   "outputs": [],
   "source": [
    "def euclidean(points : np.ndarray, element_of_x : np.ndarray) -> np.ndarray:\n",
    "    return np.sqrt(np.sum((points - element_of_x) ** 2, axis=1))"
   ]
  },
  {
   "cell_type": "code",
   "execution_count": 100,
   "metadata": {},
   "outputs": [],
   "source": [
    "def predict(x_train : np.ndarray, y_train : np.ndarray, x_test : np.ndarray, k : int):\n",
    "    labels_pred = []\n",
    "    for x_test_element in x_test:\n",
    "        distances = euclidean(x_train, x_test_element)\n",
    "        distances = np.array(sorted(zip(distances, y_train)))\n",
    "        label_pred = mode(distances[:k, 1], keepdims=False).mode\n",
    "        labels_pred.append(label_pred)\n",
    "    return np.array(labels_pred, dtype=np.int64)\n",
    "\n",
    "y_preds = predict(x_train, y_train, x_test, 3)"
   ]
  },
  {
   "cell_type": "code",
   "execution_count": 101,
   "metadata": {},
   "outputs": [
    {
     "name": "stdout",
     "output_type": "stream",
     "text": [
      "32.142857142857146\n"
     ]
    }
   ],
   "source": [
    "def accuracy(y_test : np.ndarray, y_preds : np.ndarray) -> float:\n",
    "    true_positive = (y_test == y_preds).sum()\n",
    "    return true_positive / len(y_test) * 100\n",
    "\n",
    "print(accuracy(y_test, y_preds))"
   ]
  },
  {
   "cell_type": "code",
   "execution_count": 102,
   "metadata": {},
   "outputs": [
    {
     "data": {
      "image/png": "[encoded data removed]",
      "text/plain": [
       "<Figure size 640x480 with 2 Axes>"
      ]
     },
     "metadata": {},
     "output_type": "display_data"
    }
   ],
   "source": [
    "def plot_confusion_matrix(y_test : np.ndarray, y_preds : np.ndarray) -> None:\n",
    "    conf_matrix = confusion_matrix(y_test, y_preds)\n",
    "    sns.heatmap(conf_matrix, annot=True)\n",
    "\n",
    "plot_confusion_matrix(y_test, y_preds)"
   ]
  }
 ],
 "metadata": {
  "kernelspec": {
   "display_name": "Python 3",
   "language": "python",
   "name": "python3"
  },
  "language_info": {
   "codemirror_mode": {
    "name": "ipython",
    "version": 3
   },
   "file_extension": ".py",
   "mimetype": "text/x-python",
   "name": "python",
   "nbconvert_exporter": "python",
   "pygments_lexer": "ipython3",
   "version": "3.11.1"
  },
  "orig_nbformat": 4
 },
 "nbformat": 4,
 "nbformat_minor": 2
}
